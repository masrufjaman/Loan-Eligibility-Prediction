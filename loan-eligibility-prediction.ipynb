{
 "cells": [
  {
   "cell_type": "markdown",
   "id": "1b8dbc73",
   "metadata": {},
   "source": [
    "# Dataset plotting presentation\n",
    "Tasks:\n",
    "1. Read the dataset\n",
    "2. Drop duplicates\n",
    "3. Drop null values consisting of corresponding rows/columns\n",
    "4. Replace null values with zero/mean/median/mode\n",
    "5. Scatter plot with and without hue\n",
    "6. KDE plot with and without hue\n",
    "7. Histogram with and without hue\n",
    "8. Boxplot of all the features\n",
    "9. Detect outliers with boxplot"
   ]
  },
  {
   "cell_type": "markdown",
   "id": "c6b2240e",
   "metadata": {},
   "source": [
    "### 1. Read the dataset"
   ]
  },
  {
   "cell_type": "code",
   "execution_count": 1,
   "id": "5447761b",
   "metadata": {},
   "outputs": [],
   "source": [
    "# import pandas\n",
    "import pandas as pd"
   ]
  },
  {
   "cell_type": "code",
   "execution_count": 2,
   "id": "0acc4694",
   "metadata": {},
   "outputs": [
    {
     "ename": "FileNotFoundError",
     "evalue": "[Errno 2] No such file or directory: 'train_u6lujuX_CVtuZ9i.csv'",
     "output_type": "error",
     "traceback": [
      "\u001b[1;31m---------------------------------------------------------------------------\u001b[0m",
      "\u001b[1;31mFileNotFoundError\u001b[0m                         Traceback (most recent call last)",
      "\u001b[1;32m~\\AppData\\Local\\Temp\\ipykernel_11076\\2381135264.py\u001b[0m in \u001b[0;36m<module>\u001b[1;34m\u001b[0m\n\u001b[0;32m      1\u001b[0m \u001b[1;31m#Read the dataset and store it in a dataframe\u001b[0m\u001b[1;33m\u001b[0m\u001b[1;33m\u001b[0m\u001b[0m\n\u001b[1;32m----> 2\u001b[1;33m \u001b[0mdf_train\u001b[0m \u001b[1;33m=\u001b[0m \u001b[0mpd\u001b[0m\u001b[1;33m.\u001b[0m\u001b[0mread_csv\u001b[0m\u001b[1;33m(\u001b[0m\u001b[1;34m'train_u6lujuX_CVtuZ9i.csv'\u001b[0m\u001b[1;33m)\u001b[0m\u001b[1;33m\u001b[0m\u001b[1;33m\u001b[0m\u001b[0m\n\u001b[0m\u001b[0;32m      3\u001b[0m \u001b[0mdf_test\u001b[0m \u001b[1;33m=\u001b[0m \u001b[0mpd\u001b[0m\u001b[1;33m.\u001b[0m\u001b[0mread_csv\u001b[0m\u001b[1;33m(\u001b[0m\u001b[1;34m'test_Y3wMUE5_7gLdaTN.csv'\u001b[0m\u001b[1;33m)\u001b[0m\u001b[1;33m\u001b[0m\u001b[1;33m\u001b[0m\u001b[0m\n",
      "\u001b[1;32mC:\\ProgramData\\Anaconda3\\lib\\site-packages\\pandas\\util\\_decorators.py\u001b[0m in \u001b[0;36mwrapper\u001b[1;34m(*args, **kwargs)\u001b[0m\n\u001b[0;32m    309\u001b[0m                     \u001b[0mstacklevel\u001b[0m\u001b[1;33m=\u001b[0m\u001b[0mstacklevel\u001b[0m\u001b[1;33m,\u001b[0m\u001b[1;33m\u001b[0m\u001b[1;33m\u001b[0m\u001b[0m\n\u001b[0;32m    310\u001b[0m                 )\n\u001b[1;32m--> 311\u001b[1;33m             \u001b[1;32mreturn\u001b[0m \u001b[0mfunc\u001b[0m\u001b[1;33m(\u001b[0m\u001b[1;33m*\u001b[0m\u001b[0margs\u001b[0m\u001b[1;33m,\u001b[0m \u001b[1;33m**\u001b[0m\u001b[0mkwargs\u001b[0m\u001b[1;33m)\u001b[0m\u001b[1;33m\u001b[0m\u001b[1;33m\u001b[0m\u001b[0m\n\u001b[0m\u001b[0;32m    312\u001b[0m \u001b[1;33m\u001b[0m\u001b[0m\n\u001b[0;32m    313\u001b[0m         \u001b[1;32mreturn\u001b[0m \u001b[0mwrapper\u001b[0m\u001b[1;33m\u001b[0m\u001b[1;33m\u001b[0m\u001b[0m\n",
      "\u001b[1;32mC:\\ProgramData\\Anaconda3\\lib\\site-packages\\pandas\\io\\parsers\\readers.py\u001b[0m in \u001b[0;36mread_csv\u001b[1;34m(filepath_or_buffer, sep, delimiter, header, names, index_col, usecols, squeeze, prefix, mangle_dupe_cols, dtype, engine, converters, true_values, false_values, skipinitialspace, skiprows, skipfooter, nrows, na_values, keep_default_na, na_filter, verbose, skip_blank_lines, parse_dates, infer_datetime_format, keep_date_col, date_parser, dayfirst, cache_dates, iterator, chunksize, compression, thousands, decimal, lineterminator, quotechar, quoting, doublequote, escapechar, comment, encoding, encoding_errors, dialect, error_bad_lines, warn_bad_lines, on_bad_lines, delim_whitespace, low_memory, memory_map, float_precision, storage_options)\u001b[0m\n\u001b[0;32m    676\u001b[0m     \u001b[0mkwds\u001b[0m\u001b[1;33m.\u001b[0m\u001b[0mupdate\u001b[0m\u001b[1;33m(\u001b[0m\u001b[0mkwds_defaults\u001b[0m\u001b[1;33m)\u001b[0m\u001b[1;33m\u001b[0m\u001b[1;33m\u001b[0m\u001b[0m\n\u001b[0;32m    677\u001b[0m \u001b[1;33m\u001b[0m\u001b[0m\n\u001b[1;32m--> 678\u001b[1;33m     \u001b[1;32mreturn\u001b[0m \u001b[0m_read\u001b[0m\u001b[1;33m(\u001b[0m\u001b[0mfilepath_or_buffer\u001b[0m\u001b[1;33m,\u001b[0m \u001b[0mkwds\u001b[0m\u001b[1;33m)\u001b[0m\u001b[1;33m\u001b[0m\u001b[1;33m\u001b[0m\u001b[0m\n\u001b[0m\u001b[0;32m    679\u001b[0m \u001b[1;33m\u001b[0m\u001b[0m\n\u001b[0;32m    680\u001b[0m \u001b[1;33m\u001b[0m\u001b[0m\n",
      "\u001b[1;32mC:\\ProgramData\\Anaconda3\\lib\\site-packages\\pandas\\io\\parsers\\readers.py\u001b[0m in \u001b[0;36m_read\u001b[1;34m(filepath_or_buffer, kwds)\u001b[0m\n\u001b[0;32m    573\u001b[0m \u001b[1;33m\u001b[0m\u001b[0m\n\u001b[0;32m    574\u001b[0m     \u001b[1;31m# Create the parser.\u001b[0m\u001b[1;33m\u001b[0m\u001b[1;33m\u001b[0m\u001b[0m\n\u001b[1;32m--> 575\u001b[1;33m     \u001b[0mparser\u001b[0m \u001b[1;33m=\u001b[0m \u001b[0mTextFileReader\u001b[0m\u001b[1;33m(\u001b[0m\u001b[0mfilepath_or_buffer\u001b[0m\u001b[1;33m,\u001b[0m \u001b[1;33m**\u001b[0m\u001b[0mkwds\u001b[0m\u001b[1;33m)\u001b[0m\u001b[1;33m\u001b[0m\u001b[1;33m\u001b[0m\u001b[0m\n\u001b[0m\u001b[0;32m    576\u001b[0m \u001b[1;33m\u001b[0m\u001b[0m\n\u001b[0;32m    577\u001b[0m     \u001b[1;32mif\u001b[0m \u001b[0mchunksize\u001b[0m \u001b[1;32mor\u001b[0m \u001b[0miterator\u001b[0m\u001b[1;33m:\u001b[0m\u001b[1;33m\u001b[0m\u001b[1;33m\u001b[0m\u001b[0m\n",
      "\u001b[1;32mC:\\ProgramData\\Anaconda3\\lib\\site-packages\\pandas\\io\\parsers\\readers.py\u001b[0m in \u001b[0;36m__init__\u001b[1;34m(self, f, engine, **kwds)\u001b[0m\n\u001b[0;32m    930\u001b[0m \u001b[1;33m\u001b[0m\u001b[0m\n\u001b[0;32m    931\u001b[0m         \u001b[0mself\u001b[0m\u001b[1;33m.\u001b[0m\u001b[0mhandles\u001b[0m\u001b[1;33m:\u001b[0m \u001b[0mIOHandles\u001b[0m \u001b[1;33m|\u001b[0m \u001b[1;32mNone\u001b[0m \u001b[1;33m=\u001b[0m \u001b[1;32mNone\u001b[0m\u001b[1;33m\u001b[0m\u001b[1;33m\u001b[0m\u001b[0m\n\u001b[1;32m--> 932\u001b[1;33m         \u001b[0mself\u001b[0m\u001b[1;33m.\u001b[0m\u001b[0m_engine\u001b[0m \u001b[1;33m=\u001b[0m \u001b[0mself\u001b[0m\u001b[1;33m.\u001b[0m\u001b[0m_make_engine\u001b[0m\u001b[1;33m(\u001b[0m\u001b[0mf\u001b[0m\u001b[1;33m,\u001b[0m \u001b[0mself\u001b[0m\u001b[1;33m.\u001b[0m\u001b[0mengine\u001b[0m\u001b[1;33m)\u001b[0m\u001b[1;33m\u001b[0m\u001b[1;33m\u001b[0m\u001b[0m\n\u001b[0m\u001b[0;32m    933\u001b[0m \u001b[1;33m\u001b[0m\u001b[0m\n\u001b[0;32m    934\u001b[0m     \u001b[1;32mdef\u001b[0m \u001b[0mclose\u001b[0m\u001b[1;33m(\u001b[0m\u001b[0mself\u001b[0m\u001b[1;33m)\u001b[0m\u001b[1;33m:\u001b[0m\u001b[1;33m\u001b[0m\u001b[1;33m\u001b[0m\u001b[0m\n",
      "\u001b[1;32mC:\\ProgramData\\Anaconda3\\lib\\site-packages\\pandas\\io\\parsers\\readers.py\u001b[0m in \u001b[0;36m_make_engine\u001b[1;34m(self, f, engine)\u001b[0m\n\u001b[0;32m   1214\u001b[0m             \u001b[1;31m# \"Union[str, PathLike[str], ReadCsvBuffer[bytes], ReadCsvBuffer[str]]\"\u001b[0m\u001b[1;33m\u001b[0m\u001b[1;33m\u001b[0m\u001b[0m\n\u001b[0;32m   1215\u001b[0m             \u001b[1;31m# , \"str\", \"bool\", \"Any\", \"Any\", \"Any\", \"Any\", \"Any\"\u001b[0m\u001b[1;33m\u001b[0m\u001b[1;33m\u001b[0m\u001b[0m\n\u001b[1;32m-> 1216\u001b[1;33m             self.handles = get_handle(  # type: ignore[call-overload]\n\u001b[0m\u001b[0;32m   1217\u001b[0m                 \u001b[0mf\u001b[0m\u001b[1;33m,\u001b[0m\u001b[1;33m\u001b[0m\u001b[1;33m\u001b[0m\u001b[0m\n\u001b[0;32m   1218\u001b[0m                 \u001b[0mmode\u001b[0m\u001b[1;33m,\u001b[0m\u001b[1;33m\u001b[0m\u001b[1;33m\u001b[0m\u001b[0m\n",
      "\u001b[1;32mC:\\ProgramData\\Anaconda3\\lib\\site-packages\\pandas\\io\\common.py\u001b[0m in \u001b[0;36mget_handle\u001b[1;34m(path_or_buf, mode, encoding, compression, memory_map, is_text, errors, storage_options)\u001b[0m\n\u001b[0;32m    784\u001b[0m         \u001b[1;32mif\u001b[0m \u001b[0mioargs\u001b[0m\u001b[1;33m.\u001b[0m\u001b[0mencoding\u001b[0m \u001b[1;32mand\u001b[0m \u001b[1;34m\"b\"\u001b[0m \u001b[1;32mnot\u001b[0m \u001b[1;32min\u001b[0m \u001b[0mioargs\u001b[0m\u001b[1;33m.\u001b[0m\u001b[0mmode\u001b[0m\u001b[1;33m:\u001b[0m\u001b[1;33m\u001b[0m\u001b[1;33m\u001b[0m\u001b[0m\n\u001b[0;32m    785\u001b[0m             \u001b[1;31m# Encoding\u001b[0m\u001b[1;33m\u001b[0m\u001b[1;33m\u001b[0m\u001b[0m\n\u001b[1;32m--> 786\u001b[1;33m             handle = open(\n\u001b[0m\u001b[0;32m    787\u001b[0m                 \u001b[0mhandle\u001b[0m\u001b[1;33m,\u001b[0m\u001b[1;33m\u001b[0m\u001b[1;33m\u001b[0m\u001b[0m\n\u001b[0;32m    788\u001b[0m                 \u001b[0mioargs\u001b[0m\u001b[1;33m.\u001b[0m\u001b[0mmode\u001b[0m\u001b[1;33m,\u001b[0m\u001b[1;33m\u001b[0m\u001b[1;33m\u001b[0m\u001b[0m\n",
      "\u001b[1;31mFileNotFoundError\u001b[0m: [Errno 2] No such file or directory: 'train_u6lujuX_CVtuZ9i.csv'"
     ]
    }
   ],
   "source": [
    "#Read the dataset and store it in a dataframe\n",
    "df_train = pd.read_csv('train_u6lujuX_CVtuZ9i.csv')\n",
    "df_test = pd.read_csv('test_Y3wMUE5_7gLdaTN.csv')"
   ]
  },
  {
   "cell_type": "markdown",
   "id": "e02e86b5",
   "metadata": {},
   "source": [
    "### Basic Stats\n",
    "For Train Dataset(df_train)"
   ]
  },
  {
   "cell_type": "code",
   "execution_count": null,
   "id": "3f52f162",
   "metadata": {},
   "outputs": [],
   "source": [
    "print(\"Number of rows: \", df_train.shape[0])\n",
    "print(\"Number of columns: \", df_train.shape[1])"
   ]
  },
  {
   "cell_type": "code",
   "execution_count": null,
   "id": "d4d8d0e9",
   "metadata": {},
   "outputs": [],
   "source": [
    "print(\"Number of rows: \", df_test.shape[0])\n",
    "print(\"Number of columns: \", df_test.shape[1])"
   ]
  },
  {
   "cell_type": "code",
   "execution_count": null,
   "id": "7876e0ca",
   "metadata": {},
   "outputs": [],
   "source": [
    "df_train.info()"
   ]
  },
  {
   "cell_type": "markdown",
   "id": "fc07fa98",
   "metadata": {},
   "source": [
    "### 2. Drop duplicates"
   ]
  },
  {
   "cell_type": "code",
   "execution_count": null,
   "id": "04aa0aab",
   "metadata": {},
   "outputs": [],
   "source": [
    "df_train.Loan_ID.duplicated().sum() #check duplicate for Loan_ID column"
   ]
  },
  {
   "cell_type": "code",
   "execution_count": null,
   "id": "7881b3b0",
   "metadata": {},
   "outputs": [],
   "source": [
    "df_train.duplicated().sum()"
   ]
  },
  {
   "cell_type": "code",
   "execution_count": null,
   "id": "070653d2",
   "metadata": {},
   "outputs": [],
   "source": [
    "df1_train = df_train.drop(columns=['Loan_ID'])\n",
    "df1_train.head()"
   ]
  },
  {
   "cell_type": "markdown",
   "id": "0982b2a7",
   "metadata": {},
   "source": [
    "### 3. Drop null values consisting of corresponding rows/columns"
   ]
  },
  {
   "cell_type": "code",
   "execution_count": null,
   "id": "3291c75a",
   "metadata": {
    "scrolled": true
   },
   "outputs": [],
   "source": [
    "df1_train.isnull().sum()"
   ]
  },
  {
   "cell_type": "markdown",
   "id": "873ba296",
   "metadata": {},
   "source": [
    "### 4. Replace null values with zero/mean/median/mode"
   ]
  },
  {
   "cell_type": "code",
   "execution_count": null,
   "id": "e2587125",
   "metadata": {},
   "outputs": [],
   "source": [
    "df2_train = df1_train\n",
    "df2_train['Gender'] = df1_train['Gender'].fillna(df1_train['Gender'].mode()[0])\n",
    "df2_train['Married'] = df1_train['Married'].fillna(df1_train['Married'].mode()[0])\n",
    "df2_train['Dependents'] = df1_train['Dependents'].fillna(df1_train['Dependents'].mode()[0])\n",
    "df2_train['Self_Employed'] = df1_train['Self_Employed'].fillna(df1_train['Self_Employed'].mode()[0])\n",
    "df2_train['Credit_History'] = df1_train['Credit_History'].fillna(df1_train['Credit_History'].mode()[0])\n",
    "df2_train.isnull().sum()"
   ]
  },
  {
   "cell_type": "code",
   "execution_count": null,
   "id": "2b4be0b6",
   "metadata": {},
   "outputs": [],
   "source": [
    "df3_train = df2_train\n",
    "df3_train['LoanAmount'] = df2_train['LoanAmount'].fillna(df2_train['LoanAmount'].median())\n",
    "df3_train['Loan_Amount_Term'] = df2_train['Loan_Amount_Term'].fillna(df2_train['Loan_Amount_Term'].median())\n",
    "df3_train.isnull().sum()"
   ]
  },
  {
   "cell_type": "markdown",
   "id": "9c62b627",
   "metadata": {},
   "source": [
    "### 5. Scatter plot with and without hue"
   ]
  },
  {
   "cell_type": "code",
   "execution_count": null,
   "id": "ce8af970",
   "metadata": {},
   "outputs": [],
   "source": [
    "import seaborn as sns\n",
    "from matplotlib import pyplot as plt"
   ]
  },
  {
   "cell_type": "code",
   "execution_count": null,
   "id": "8a1690f8",
   "metadata": {},
   "outputs": [],
   "source": [
    "df1_plot = df1_mode_median\n",
    "sns.scatterplot(data=df1_plot, y='ApplicantIncome', x='LoanAmount')"
   ]
  },
  {
   "cell_type": "code",
   "execution_count": null,
   "id": "d277c782",
   "metadata": {},
   "outputs": [],
   "source": [
    "sns.scatterplot(data=df1_plot,y='ApplicantIncome',x='LoanAmount', hue='Loan_Status')"
   ]
  },
  {
   "cell_type": "markdown",
   "id": "2cbb2ea4",
   "metadata": {},
   "source": [
    "### 6. KDE plot with and without hue"
   ]
  },
  {
   "cell_type": "code",
   "execution_count": null,
   "id": "abc482a0",
   "metadata": {},
   "outputs": [],
   "source": [
    "sns.kdeplot(x = 'CoapplicantIncome', data = df1_plot)"
   ]
  },
  {
   "cell_type": "code",
   "execution_count": null,
   "id": "8b2ae29d",
   "metadata": {},
   "outputs": [],
   "source": [
    "sns.kdeplot(x = 'CoapplicantIncome', data = df1_plot, shade = True, hue = 'Loan_Status')"
   ]
  },
  {
   "cell_type": "markdown",
   "id": "0922ee37",
   "metadata": {},
   "source": [
    "### 7. Histogram with and without hue"
   ]
  },
  {
   "cell_type": "code",
   "execution_count": null,
   "id": "6ca256d6",
   "metadata": {},
   "outputs": [],
   "source": [
    "df1_plot['Loan_Amount_Term'].unique()"
   ]
  },
  {
   "cell_type": "code",
   "execution_count": null,
   "id": "a825000c",
   "metadata": {},
   "outputs": [],
   "source": [
    "sns.histplot(x = 'Loan_Amount_Term', data = df1_plot);"
   ]
  },
  {
   "cell_type": "code",
   "execution_count": null,
   "id": "96054cb1",
   "metadata": {},
   "outputs": [],
   "source": [
    "sns.histplot(x = 'Loan_Amount_Term', data = df1_plot, hue='Loan_Status');"
   ]
  },
  {
   "cell_type": "markdown",
   "id": "fc0528f2",
   "metadata": {},
   "source": [
    "### 8. Boxplot of all the features"
   ]
  },
  {
   "cell_type": "code",
   "execution_count": null,
   "id": "58ee5f2d",
   "metadata": {},
   "outputs": [],
   "source": [
    "sns.boxplot(x= 'LoanAmount', y = 'Gender', data = df1_plot)"
   ]
  },
  {
   "cell_type": "code",
   "execution_count": null,
   "id": "fc2fddcb",
   "metadata": {},
   "outputs": [],
   "source": [
    "sns.boxplot(x= 'CoapplicantIncome', y = 'Married', data = df1_plot)"
   ]
  },
  {
   "cell_type": "code",
   "execution_count": null,
   "id": "0b58692c",
   "metadata": {},
   "outputs": [],
   "source": [
    "sns.boxplot(x= 'ApplicantIncome', y = 'Dependents', data = df1_plot)"
   ]
  },
  {
   "cell_type": "code",
   "execution_count": null,
   "id": "59253cdf",
   "metadata": {},
   "outputs": [],
   "source": [
    "sns.boxplot(x= 'ApplicantIncome', y = 'Self_Employed', data = df1_plot)"
   ]
  },
  {
   "cell_type": "code",
   "execution_count": null,
   "id": "35389c4b",
   "metadata": {},
   "outputs": [],
   "source": [
    "sns.boxplot(x= 'Loan_Amount_Term', y = 'Credit_History', data = df1_plot)"
   ]
  },
  {
   "cell_type": "markdown",
   "id": "1a48ebc9",
   "metadata": {},
   "source": [
    "### 9. Detect outliers with boxplot"
   ]
  },
  {
   "cell_type": "code",
   "execution_count": null,
   "id": "68000ab8",
   "metadata": {},
   "outputs": [],
   "source": [
    "# implementation of the Tukey's algorithm\n",
    "# values that look different from the other values in the data\n",
    "# Box plots are a visual method to identify outliers\n",
    "def findOutliers(dataset):\n",
    "    outliers = []\n",
    "    Q2 = dataset.median()\n",
    "    Q1 = dataset.describe()[4]\n",
    "    Q3 = dataset.describe()[6]\n",
    "    \n",
    "    Q1 = dataset.quantile(0.25)\n",
    "    Q3 = dataset.quantile(0.75)\n",
    "    \n",
    "    IQR = Q3 - Q1\n",
    "    lf = Q1 - 1.5*IQR # lf = lower fence\n",
    "    uf = Q3 + 1.5*IQR # Uf = Upper fence\n",
    "    for x in dataset:\n",
    "        if x < lf or x > uf:\n",
    "            outliers.append(x)\n",
    "    return outliers"
   ]
  },
  {
   "cell_type": "code",
   "execution_count": null,
   "id": "4ce89111",
   "metadata": {
    "scrolled": true
   },
   "outputs": [],
   "source": [
    "df1_plot.describe()"
   ]
  },
  {
   "cell_type": "code",
   "execution_count": null,
   "id": "f6736e08",
   "metadata": {
    "scrolled": true
   },
   "outputs": [],
   "source": [
    "sns.boxplot(x = 'ApplicantIncome', data = df1_plot)\n",
    "findOutliers(df1_plot['ApplicantIncome'])"
   ]
  },
  {
   "cell_type": "code",
   "execution_count": null,
   "id": "9fdb4a13",
   "metadata": {
    "scrolled": true
   },
   "outputs": [],
   "source": [
    "sns.boxplot(x = 'CoapplicantIncome', data = df1_plot)\n",
    "findOutliers(df1_plot['CoapplicantIncome'])"
   ]
  },
  {
   "cell_type": "code",
   "execution_count": null,
   "id": "a9bcf6a1",
   "metadata": {
    "scrolled": true
   },
   "outputs": [],
   "source": [
    "sns.boxplot(x = 'LoanAmount', data = df1_plot)\n",
    "findOutliers(df1_plot['LoanAmount'])"
   ]
  },
  {
   "cell_type": "code",
   "execution_count": null,
   "id": "5e531491",
   "metadata": {
    "scrolled": true
   },
   "outputs": [],
   "source": [
    "sns.boxplot(x = 'Loan_Amount_Term', data = df1_plot)\n",
    "findOutliers(df1_plot['Loan_Amount_Term'])"
   ]
  },
  {
   "cell_type": "code",
   "execution_count": null,
   "id": "0eec1b0f",
   "metadata": {},
   "outputs": [],
   "source": [
    "df3_train.head()"
   ]
  },
  {
   "cell_type": "code",
   "execution_count": null,
   "id": "90189ac4",
   "metadata": {},
   "outputs": [],
   "source": [
    "df3_train.info()"
   ]
  },
  {
   "cell_type": "code",
   "execution_count": null,
   "id": "e899f1ad",
   "metadata": {},
   "outputs": [],
   "source": [
    "cat_feats = ['Gender', 'Married', 'Dependents', 'Education', 'Self_Employed', 'Property_Area', 'Loan_Status']"
   ]
  },
  {
   "cell_type": "code",
   "execution_count": null,
   "id": "8deb884c",
   "metadata": {},
   "outputs": [],
   "source": [
    "df4_train = pd.get_dummies(data=df3_train, columns=cat_feats ,drop_first=True)"
   ]
  },
  {
   "cell_type": "code",
   "execution_count": null,
   "id": "f21e1a5b",
   "metadata": {},
   "outputs": [],
   "source": [
    "df4_train.head()"
   ]
  },
  {
   "cell_type": "code",
   "execution_count": null,
   "id": "dbaca982",
   "metadata": {},
   "outputs": [],
   "source": [
    "df3_1_train = df3_train.drop(columns=['Gender', 'Married', 'Dependents', 'Education', 'Self_Employed', 'Property_Area', 'Loan_Status'])"
   ]
  },
  {
   "cell_type": "code",
   "execution_count": null,
   "id": "74ddb498",
   "metadata": {},
   "outputs": [],
   "source": [
    "df5_train= pd.concat([df3_1_train,df4_train],axis=1)"
   ]
  },
  {
   "cell_type": "code",
   "execution_count": null,
   "id": "85ca3875",
   "metadata": {},
   "outputs": [],
   "source": [
    "df5_train.head()"
   ]
  },
  {
   "cell_type": "code",
   "execution_count": null,
   "id": "731a602d",
   "metadata": {},
   "outputs": [],
   "source": [
    "from sklearn.ensemble import RandomForestClassifier\n",
    "rfc = RandomForestClassifier(n_estimators=600)"
   ]
  },
  {
   "cell_type": "code",
   "execution_count": null,
   "id": "c3c1c486",
   "metadata": {},
   "outputs": [],
   "source": [
    "x_train = df5_train.drop(columns=['Loan_Status_Y'])\n",
    "y_train = df5_train['Loan_Status_Y']"
   ]
  },
  {
   "cell_type": "code",
   "execution_count": null,
   "id": "e92e1a11",
   "metadata": {
    "scrolled": true
   },
   "outputs": [],
   "source": [
    "rfc.fit(df5_train, y_train)"
   ]
  },
  {
   "cell_type": "code",
   "execution_count": null,
   "id": "1cdb4e8f",
   "metadata": {},
   "outputs": [],
   "source": []
  }
 ],
 "metadata": {
  "kernelspec": {
   "display_name": "Python 3 (ipykernel)",
   "language": "python",
   "name": "python3"
  },
  "language_info": {
   "codemirror_mode": {
    "name": "ipython",
    "version": 3
   },
   "file_extension": ".py",
   "mimetype": "text/x-python",
   "name": "python",
   "nbconvert_exporter": "python",
   "pygments_lexer": "ipython3",
   "version": "3.9.13"
  }
 },
 "nbformat": 4,
 "nbformat_minor": 5
}
