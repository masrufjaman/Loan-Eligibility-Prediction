{
 "cells": [
  {
   "cell_type": "markdown",
   "id": "e1a91eab",
   "metadata": {},
   "source": [
    "# Dataset plotting presentation\n",
    "Tasks:\n",
    "1. Read the dataset\n",
    "2. Drop duplicates\n",
    "3. Drop null values consisting of corresponding rows/columns\n",
    "4. Replace null values with zero/mean/median/mode\n",
    "5. Scatter plot with and without hue\n",
    "6. KDE plot with and without hue\n",
    "7. Histogram with and without hue\n",
    "8. Boxplot of all the features\n",
    "9. Detect outliers with boxplot"
   ]
  },
  {
   "cell_type": "markdown",
   "id": "42298c8b",
   "metadata": {},
   "source": [
    "1. Read the dataset"
   ]
  },
  {
   "cell_type": "code",
   "execution_count": 9,
   "id": "3783d005",
   "metadata": {},
   "outputs": [],
   "source": [
    "# import pandas\n",
    "import pandas as pd"
   ]
  },
  {
   "cell_type": "code",
   "execution_count": 10,
   "id": "2e48ad43",
   "metadata": {},
   "outputs": [],
   "source": [
    "#Read the dataset and store it in a dataframe\n",
    "df = pd.read_csv('train_u6lujuX_CVtuZ9i.csv')"
   ]
  }
 ],
 "metadata": {
  "kernelspec": {
   "display_name": "Python 3 (ipykernel)",
   "language": "python",
   "name": "python3"
  },
  "language_info": {
   "codemirror_mode": {
    "name": "ipython",
    "version": 3
   },
   "file_extension": ".py",
   "mimetype": "text/x-python",
   "name": "python",
   "nbconvert_exporter": "python",
   "pygments_lexer": "ipython3",
   "version": "3.9.13"
  }
 },
 "nbformat": 4,
 "nbformat_minor": 5
}
