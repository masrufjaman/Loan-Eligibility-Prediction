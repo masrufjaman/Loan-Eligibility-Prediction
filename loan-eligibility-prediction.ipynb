{
 "cells": [
  {
   "cell_type": "markdown",
   "id": "0aa9c8d3",
   "metadata": {},
   "source": [
    "# Dataset plotting presentation\n",
    "Tasks:\n",
    "1. Read the dataset\n",
    "2. Drop duplicates\n",
    "3. Drop null values consisting of corresponding rows/columns\n",
    "4. Replace null values with zero/mean/median/mode\n",
    "5. Scatter plot with and without hue\n",
    "6. KDE plot with and without hue\n",
    "7. Histogram with and without hue\n",
    "8. Boxplot of all the features\n",
    "9. Detect outliers with boxplot"
   ]
  },
  {
   "cell_type": "markdown",
   "id": "7958218b",
   "metadata": {},
   "source": [
    "### Read the dataset"
   ]
  },
  {
   "cell_type": "code",
   "execution_count": 11,
   "id": "cbf94332",
   "metadata": {},
   "outputs": [],
   "source": [
    "# import pandas\n",
    "import pandas as pd"
   ]
  },
  {
   "cell_type": "code",
   "execution_count": 13,
   "id": "9b4e37db",
   "metadata": {},
   "outputs": [],
   "source": [
    "#Read the dataset and store it in a dataframe\n",
    "df = pd.read_csv('train_u6lujuX_CVtuZ9i.csv')"
   ]
  },
  {
   "cell_type": "markdown",
   "id": "f44c9dc6",
   "metadata": {},
   "source": [
    "### Drop duplicates"
   ]
  },
  {
   "cell_type": "code",
   "execution_count": 40,
   "id": "a0d3f79b",
   "metadata": {},
   "outputs": [
    {
     "data": {
      "text/plain": [
       "0"
      ]
     },
     "execution_count": 40,
     "metadata": {},
     "output_type": "execute_result"
    }
   ],
   "source": [
    "df.Loan_ID.duplicated().sum() #check duplicate for Loan_ID column"
   ]
  },
  {
   "cell_type": "code",
   "execution_count": 41,
   "id": "fe37fe5f",
   "metadata": {},
   "outputs": [
    {
     "data": {
      "text/plain": [
       "0"
      ]
     },
     "execution_count": 41,
     "metadata": {},
     "output_type": "execute_result"
    }
   ],
   "source": [
    "df.duplicated().sum()"
   ]
  },
  {
   "cell_type": "markdown",
   "id": "23f1d1ca",
   "metadata": {},
   "source": [
    "### Drop null values consisting of corresponding rows/columns"
   ]
  },
  {
   "cell_type": "code",
   "execution_count": 42,
   "id": "f7fd4f99",
   "metadata": {},
   "outputs": [
    {
     "data": {
      "text/plain": [
       "Loan_ID               0\n",
       "Gender               13\n",
       "Married               3\n",
       "Dependents           15\n",
       "Education             0\n",
       "Self_Employed        32\n",
       "ApplicantIncome       0\n",
       "CoapplicantIncome     0\n",
       "LoanAmount           22\n",
       "Loan_Amount_Term     14\n",
       "Credit_History       50\n",
       "Property_Area         0\n",
       "Loan_Status           0\n",
       "dtype: int64"
      ]
     },
     "execution_count": 42,
     "metadata": {},
     "output_type": "execute_result"
    }
   ],
   "source": [
    "df.isnull().sum()"
   ]
  }
 ],
 "metadata": {
  "kernelspec": {
   "display_name": "Python 3 (ipykernel)",
   "language": "python",
   "name": "python3"
  },
  "language_info": {
   "codemirror_mode": {
    "name": "ipython",
    "version": 3
   },
   "file_extension": ".py",
   "mimetype": "text/x-python",
   "name": "python",
   "nbconvert_exporter": "python",
   "pygments_lexer": "ipython3",
   "version": "3.9.13"
  }
 },
 "nbformat": 4,
 "nbformat_minor": 5
}
