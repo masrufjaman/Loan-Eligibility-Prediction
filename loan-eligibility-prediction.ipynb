{
 "cells": [
  {
   "cell_type": "markdown",
   "id": "19830ac9",
   "metadata": {},
   "source": [
    "# Dataset plotting presentation\n",
    "Tasks:\n",
    "1. Read the dataset\n",
    "2. Drop duplicates\n",
    "3. Drop null values consisting of corresponding rows/columns\n",
    "4. Replace null values with zero/mean/median/mode\n",
    "5. Scatter plot with and without hue\n",
    "6. KDE plot with and without hue\n",
    "7. Histogram with and without hue\n",
    "8. Boxplot of all the features\n",
    "9. Detect outliers with boxplot"
   ]
  },
  {
   "cell_type": "markdown",
   "id": "c7d5c124",
   "metadata": {},
   "source": [
    "### Read the dataset"
   ]
  },
  {
   "cell_type": "code",
   "execution_count": 11,
   "id": "31690455",
   "metadata": {},
   "outputs": [],
   "source": [
    "# import pandas\n",
    "import pandas as pd"
   ]
  },
  {
   "cell_type": "code",
   "execution_count": 13,
   "id": "e04c2a8b",
   "metadata": {},
   "outputs": [],
   "source": [
    "#Read the dataset and store it in a dataframe\n",
    "df = pd.read_csv('train_u6lujuX_CVtuZ9i.csv')"
   ]
  },
  {
   "cell_type": "markdown",
   "id": "de4b6560",
   "metadata": {},
   "source": [
    "### Drop duplicates"
   ]
  },
  {
   "cell_type": "code",
   "execution_count": 39,
   "id": "fc19dae7",
   "metadata": {},
   "outputs": [
    {
     "data": {
      "text/plain": [
       "0"
      ]
     },
     "execution_count": 39,
     "metadata": {},
     "output_type": "execute_result"
    }
   ],
   "source": [
    "df.Loan_ID.duplicated().sum() #check duplicate for "
   ]
  },
  {
   "cell_type": "code",
   "execution_count": 36,
   "id": "039452da",
   "metadata": {},
   "outputs": [
    {
     "data": {
      "text/plain": [
       "0"
      ]
     },
     "execution_count": 36,
     "metadata": {},
     "output_type": "execute_result"
    }
   ],
   "source": [
    "df.duplicated().sum()"
   ]
  }
 ],
 "metadata": {
  "kernelspec": {
   "display_name": "Python 3 (ipykernel)",
   "language": "python",
   "name": "python3"
  },
  "language_info": {
   "codemirror_mode": {
    "name": "ipython",
    "version": 3
   },
   "file_extension": ".py",
   "mimetype": "text/x-python",
   "name": "python",
   "nbconvert_exporter": "python",
   "pygments_lexer": "ipython3",
   "version": "3.9.13"
  }
 },
 "nbformat": 4,
 "nbformat_minor": 5
}
