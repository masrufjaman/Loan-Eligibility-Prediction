{
 "cells": [
  {
   "cell_type": "markdown",
   "id": "c0369a80",
   "metadata": {},
   "source": [
    "# Dataset plotting presentation\n",
    "Tasks:\n",
    "1. Read the dataset\n",
    "2. Drop duplicates\n",
    "3. Drop null values consisting of corresponding rows/columns\n",
    "4. Replace null values with zero/mean/median/mode\n",
    "5. Scatter plot with and without hue\n",
    "6. KDE plot with and without hue\n",
    "7. Histogram with and without hue\n",
    "8. Boxplot of all the features\n",
    "9. Detect outliers with boxplot"
   ]
  },
  {
   "cell_type": "markdown",
   "id": "1d3de3e1",
   "metadata": {},
   "source": [
    "### Read the dataset"
   ]
  },
  {
   "cell_type": "code",
   "execution_count": 11,
   "id": "c8efeae1",
   "metadata": {},
   "outputs": [],
   "source": [
    "# import pandas\n",
    "import pandas as pd"
   ]
  },
  {
   "cell_type": "code",
   "execution_count": 13,
   "id": "872e198c",
   "metadata": {},
   "outputs": [],
   "source": [
    "#Read the dataset and store it in a dataframe\n",
    "df = pd.read_csv('train_u6lujuX_CVtuZ9i.csv')"
   ]
  },
  {
   "cell_type": "markdown",
   "id": "b5adf473",
   "metadata": {},
   "source": [
    "### Drop duplicates"
   ]
  },
  {
   "cell_type": "code",
   "execution_count": 40,
   "id": "dc01fb2d",
   "metadata": {},
   "outputs": [
    {
     "data": {
      "text/plain": [
       "0"
      ]
     },
     "execution_count": 40,
     "metadata": {},
     "output_type": "execute_result"
    }
   ],
   "source": [
    "df.Loan_ID.duplicated().sum() #check duplicate for Loan_ID column"
   ]
  },
  {
   "cell_type": "code",
   "execution_count": 41,
   "id": "b973fcd0",
   "metadata": {},
   "outputs": [
    {
     "data": {
      "text/plain": [
       "0"
      ]
     },
     "execution_count": 41,
     "metadata": {},
     "output_type": "execute_result"
    }
   ],
   "source": [
    "df.duplicated().sum()"
   ]
  },
  {
   "cell_type": "markdown",
   "id": "b385f6e3",
   "metadata": {},
   "source": [
    "### Drop null values consisting of corresponding rows/columns"
   ]
  },
  {
   "cell_type": "code",
   "execution_count": 46,
   "id": "35832412",
   "metadata": {},
   "outputs": [
    {
     "data": {
      "text/plain": [
       "Loan_ID               0\n",
       "Gender               13\n",
       "Married               3\n",
       "Dependents           15\n",
       "Education             0\n",
       "Self_Employed        32\n",
       "ApplicantIncome       0\n",
       "CoapplicantIncome     0\n",
       "LoanAmount           22\n",
       "Loan_Amount_Term     14\n",
       "Credit_History       50\n",
       "Property_Area         0\n",
       "Loan_Status           0\n",
       "dtype: int64"
      ]
     },
     "execution_count": 46,
     "metadata": {},
     "output_type": "execute_result"
    }
   ],
   "source": [
    "df.isnull().sum()"
   ]
  },
  {
   "cell_type": "markdown",
   "id": "e5d6c9fe",
   "metadata": {},
   "source": [
    "### Replace null values with zero/mean/median/mode"
   ]
  },
  {
   "cell_type": "code",
   "execution_count": 61,
   "id": "242ef6ce",
   "metadata": {},
   "outputs": [
    {
     "data": {
      "text/plain": [
       "Loan_ID              0\n",
       "Gender               0\n",
       "Married              0\n",
       "Dependents           0\n",
       "Education            0\n",
       "Self_Employed        0\n",
       "ApplicantIncome      0\n",
       "CoapplicantIncome    0\n",
       "LoanAmount           0\n",
       "Loan_Amount_Term     0\n",
       "Credit_History       0\n",
       "Property_Area        0\n",
       "Loan_Status          0\n",
       "dtype: int64"
      ]
     },
     "execution_count": 61,
     "metadata": {},
     "output_type": "execute_result"
    }
   ],
   "source": [
    "df_mode = df\n",
    "df_mode['Gender'] = df['Gender'].fillna(df['Gender'].mode()[0])\n",
    "df_mode['Married'] = df['Married'].fillna(df['Married'].mode()[0])\n",
    "df_mode['Dependents'] = df['Dependents'].fillna(df['Dependents'].mode()[0])\n",
    "df_mode['Self_Employed'] = df['Self_Employed'].fillna(df['Self_Employed'].mode()[0])\n",
    "df_mode.isnull().sum()"
   ]
  },
  {
   "cell_type": "code",
   "execution_count": 62,
   "id": "658c4545",
   "metadata": {},
   "outputs": [
    {
     "data": {
      "text/plain": [
       "Loan_ID              0\n",
       "Gender               0\n",
       "Married              0\n",
       "Dependents           0\n",
       "Education            0\n",
       "Self_Employed        0\n",
       "ApplicantIncome      0\n",
       "CoapplicantIncome    0\n",
       "LoanAmount           0\n",
       "Loan_Amount_Term     0\n",
       "Credit_History       0\n",
       "Property_Area        0\n",
       "Loan_Status          0\n",
       "dtype: int64"
      ]
     },
     "execution_count": 62,
     "metadata": {},
     "output_type": "execute_result"
    }
   ],
   "source": [
    "df_median = df\n",
    "df_median['LoanAmount'] = df['LoanAmount'].fillna(df['LoanAmount'].median())\n",
    "df_median['Loan_Amount_Term'] = df['Loan_Amount_Term'].fillna(df['Loan_Amount_Term'].median())\n",
    "df_median['Credit_History'] = df['Credit_History'].fillna(df['Credit_History'].median())\n",
    "df_median.isnull().sum()"
   ]
  },
  {
   "cell_type": "code",
   "execution_count": null,
   "id": "6033331b",
   "metadata": {},
   "outputs": [],
   "source": []
  }
 ],
 "metadata": {
  "kernelspec": {
   "display_name": "Python 3 (ipykernel)",
   "language": "python",
   "name": "python3"
  },
  "language_info": {
   "codemirror_mode": {
    "name": "ipython",
    "version": 3
   },
   "file_extension": ".py",
   "mimetype": "text/x-python",
   "name": "python",
   "nbconvert_exporter": "python",
   "pygments_lexer": "ipython3",
   "version": "3.9.13"
  }
 },
 "nbformat": 4,
 "nbformat_minor": 5
}
